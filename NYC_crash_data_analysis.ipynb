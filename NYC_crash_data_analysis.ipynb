{
 "cells": [
  {
   "cell_type": "markdown",
   "metadata": {
    "id": "QOTQu1H_4sBN"
   },
   "source": [
    "# NYC Crash Data Analysis\n",
    "This project studies the [Motor-Vehicle-Collisions-Crashes](https://data.cityofnewyork.us/Public-Safety/Motor-Vehicle-Collisions-Crashes/h9gi-nx95) data to find patterns in the data by visualizing it."
   ]
  },
  {
   "cell_type": "code",
   "execution_count": null,
   "metadata": {
    "id": "gmEjvyxk6kbR"
   },
   "outputs": [],
   "source": [
    "import pandas as pd\n",
    "import numpy as np\n",
    "import matplotlib.pyplot as plt\n",
    "import seaborn as sns\n",
    "\n",
    "import warnings\n",
    "warnings.filterwarnings('ignore')\n",
    "\n",
    "%matplotlib inline\n",
    "import geoplot as gplt\n",
    "import geopandas as gpd\n",
    "import geoplot.crs as gcrs"
   ]
  },
  {
   "cell_type": "code",
   "execution_count": null,
   "metadata": {
    "id": "gmEjvyxk6kbR"
   },
   "outputs": [],
   "source": [
    "# please proceed onlyafter changing root directory and input file name\n",
    "\n",
    "# Config for the project\n",
    "root_dir = 'G:\\Projects\\\\NYC-Crash-Data-Analytics\\\\'\n",
    "# Input filename\n",
    "filename = 'G:\\Projects\\\\NYC-Crash-Data-Analytics\\Motor_Vehicle_Collisions_-_Crashes.csv'\n",
    "# Cleaned filename\n",
    "clean_filename = 'G:\\Projects\\\\NYC-Crash-Data-Analytics\\Motor_Vehicle_Collisions_-_Crashes_Cleaned.csv'\n",
    "# NY Borough Boundaries shapefile\n",
    "nybb_shapefile = root_dir + 'maps\\nybb.shp'\n",
    "# Index column\n",
    "\n",
    "index_col = 'COLLISION_ID'"
   ]
  },
  {
   "cell_type": "markdown",
   "metadata": {
    "id": "gqELnxoS58n1"
   },
   "source": [
    "## Data Cleaning\n",
    "The data cleaning involved the following processes:\n",
    "* **Date Parsing:** The data has two fields for CRASH DATE and CRASH TIME. We combined these two fields into a DATETIME field to make filtering easier for the data investigation.\n",
    "* **NA Value Filling:** The data contains NA values, to have a more consistent data, we filled the NA values depending on the type of data in the field. For example, the NA values in the BOROUGH field were filled with 'UNKOWN', the LATITUDE/LONGITUDE fields were set to 0."
   ]
  },
  {
   "cell_type": "code",
   "execution_count": null,
   "metadata": {
    "id": "qlZgfdYI8KUB"
   },
   "outputs": [],
   "source": [
    "# Data types for the columns in the data\n",
    "dtypes = {\n",
    "    'CRASH DATE' : 'str',\n",
    "    'CRASH TIME' : 'str',\n",
    "    'BOROUGH' : 'str',\n",
    "    'ZIP CODE' : 'str',\n",
    "    'LATITUDE' : 'float64',\n",
    "    'LONGITUDE' : 'float64',\n",
    "    'LOCATION' : 'object',\n",
    "    'ON STREET NAME' : 'str',\n",
    "    'CROSS STREET NAME' : 'str',\n",
    "    'OFF STREET NAME' : 'str',\n",
    "    'NUMBER OF PERSONS INJURED' : 'float64',\n",
    "    'NUMBER OF PERSONS KILLED' : 'float64',\n",
    "    'NUMBER OF PEDESTRIANS INJURED' : 'float64',\n",
    "    'NUMBER OF PEDESTRIANS KILLED' : 'float64',\n",
    "    'NUMBER OF CYCLIST INJURED' : 'float64',\n",
    "    'NUMBER OF CYCLIST KILLED' : 'float64',\n",
    "    'NUMBER OF MOTORIST INJURED' : 'float64',\n",
    "    'NUMBER OF MOTORIST KILLED' : 'float64',\n",
    "    'CONTRIBUTING FACTOR VEHICLE 1' : 'str',\n",
    "    'CONTRIBUTING FACTOR VEHICLE 2' : 'str',\n",
    "    'CONTRIBUTING FACTOR VEHICLE 3' : 'str',\n",
    "    'CONTRIBUTING FACTOR VEHICLE 4' : 'str',\n",
    "    'CONTRIBUTING FACTOR VEHICLE 5' : 'str',\n",
    "    'COLLISION_ID' : 'int64',\n",
    "    'VEHICLE TYPE CODE 1' : 'category',\n",
    "    'VEHICLE TYPE CODE 2' : 'category',\n",
    "    'VEHICLE TYPE CODE 3' : 'category',\n",
    "    'VEHICLE TYPE CODE 4' : 'category',\n",
    "    'VEHICLE TYPE CODE 5' : 'category'\n",
    "}\n",
    "\n",
    "# Column-wise replacement values for NA\n",
    "na_replace = {\n",
    "    'BOROUGH' : 'UNKNOWN',\n",
    "    'ZIP CODE' : 'UNKNOWN',\n",
    "    'LATITUDE' : 0,\n",
    "    'LONGITUDE' : 0,\n",
    "    'LOCATION' : '(0.0, 0.0)',\n",
    "    'ON STREET NAME' : '',\n",
    "    'CROSS STREET NAME' : '',\n",
    "    'OFF STREET NAME' : '',\n",
    "    'NUMBER OF PERSONS INJURED' : 0,\n",
    "    'NUMBER OF PERSONS KILLED' : 0,\n",
    "    'NUMBER OF PEDESTRIANS INJURED' : 0,\n",
    "    'NUMBER OF PEDESTRIANS KILLED' : 0,\n",
    "    'NUMBER OF CYCLIST INJURED' : 0,\n",
    "    'NUMBER OF CYCLIST KILLED' : 0,\n",
    "    'NUMBER OF MOTORIST INJURED' : 0,\n",
    "    'NUMBER OF MOTORIST KILLED' : 0,\n",
    "    'CONTRIBUTING FACTOR VEHICLE 1' : '',\n",
    "    'CONTRIBUTING FACTOR VEHICLE 2' : '',\n",
    "    'CONTRIBUTING FACTOR VEHICLE 3' : '',\n",
    "    'CONTRIBUTING FACTOR VEHICLE 4' : '',\n",
    "    'CONTRIBUTING FACTOR VEHICLE 5' : '',\n",
    "    'VEHICLE TYPE CODE 1' : '',\n",
    "    'VEHICLE TYPE CODE 2' : '',\n",
    "    'VEHICLE TYPE CODE 3' : '',\n",
    "    'VEHICLE TYPE CODE 4' : '',\n",
    "    'VEHICLE TYPE CODE 5' : ''\n",
    "}\n",
    "\n",
    "print('Reading CSV file %s ...' % filename)\n",
    "\n",
    "crash_data = pd.read_csv(filename, \n",
    "        index_col=index_col,\n",
    "        dtype=dtypes,\n",
    "        parse_dates={'CRASH DATETIME' : ['CRASH DATE', 'CRASH TIME']},\n",
    "        infer_datetime_format=True\n",
    "    )\n",
    "\n",
    "print('Filling NaN values ...')\n",
    "for key, val in na_replace.items():\n",
    "    print('\\t%s' % key)\n",
    "    crash_data[key] = crash_data[key].replace(np.nan, val)\n",
    "\n",
    "print(\"Saving cleaned file to %s ...\" % clean_filename)\n",
    "crash_data.to_csv(clean_filename)\n",
    "print(\"Cleaning complete.\")"
   ]
  },
  {
   "cell_type": "markdown",
   "metadata": {
    "id": "rmZbYZSSjzN-"
   },
   "source": [
    "## Read Clean Data"
   ]
  },
  {
   "cell_type": "code",
   "execution_count": null,
   "metadata": {
    "id": "4Hp8EMcsjuO0"
   },
   "outputs": [],
   "source": [
    "crash_data = pd.read_csv(clean_filename, \n",
    "    index_col=index_col, \n",
    "    parse_dates=['CRASH DATETIME'])    \n",
    "\n",
    "before_20 = crash_data[crash_data['CRASH DATETIME'].dt.year < 2020]\n",
    "during_20 = crash_data[crash_data['CRASH DATETIME'].dt.year == 2020]\n",
    "\n",
    "crash_data.head()"
   ]
  },
  {
   "cell_type": "markdown",
   "metadata": {
    "id": "D97UD1sZjIcY"
   },
   "source": [
    "## Q1\n",
    "For the years before 2020, which boroughs had the most accidents? Did this distribution change during 2020?"
   ]
  },
  {
   "cell_type": "code",
   "execution_count": null,
   "metadata": {
    "id": "gJvshLenjau3"
   },
   "outputs": [],
   "source": [
    "accidents = pd.DataFrame()\n",
    "# == Compute the distribution for accidents by Borough for years before 2020 ===\n",
    "accidents['Before 2020'] = before_20['BOROUGH'].value_counts()\n",
    "accidents['Before 2020'] = accidents['Before 2020'] / accidents['Before 2020'] \\\n",
    "                           .sum()\n",
    "\n",
    "# ====== Compute the distribution for accidents by Borough for year 2020 =======\n",
    "accidents['2020'] = during_20['BOROUGH'].value_counts()\n",
    "accidents['2020'] = accidents['2020'] / accidents['2020'].sum()\n",
    "\n",
    "# Plot distributions\n",
    "accidents.plot.bar()\n",
    "plt.show()"
   ]
  },
  {
   "cell_type": "markdown",
   "metadata": {
    "id": "b8sqD97DkeEV"
   },
   "source": [
    "## Q2\n",
    "For the years before 2020, which months had the most accidents? Students in the past have said they thought there were 10% fewer accidents in February then in January. Is this true or is this bogus? Did this distribution change during 2020?"
   ]
  },
  {
   "cell_type": "code",
   "execution_count": null,
   "metadata": {
    "id": "AAclLlTrkpsK"
   },
   "outputs": [],
   "source": [
    "accidents = pd.DataFrame()\n",
    "# == Compute the distribution for accidents by Borough for years before 2020 ===\n",
    "accidents['Before 2020'] = before_20['CRASH DATETIME'].dt.month.value_counts()\n",
    "accidents['Before 2020'] = accidents['Before 2020'] / accidents['Before 2020'] \\\n",
    "                           .sum()\n",
    "\n",
    "# ====== Compute the distribution for accidents by Borough for year 2020 =======\n",
    "accidents['2020'] = during_20['CRASH DATETIME'].dt.month.value_counts()\n",
    "accidents['2020'] = accidents['2020'] / accidents['2020'].sum()\n",
    "\n",
    "print('February had %.2f%% fewer accidents than January.' \\\n",
    "  % ((1 - (accidents['Before 2020'][2] / accidents['Before 2020'][1])) * 100))\n",
    "\n",
    "# Stack the data\n",
    "accidents = accidents.sort_index()\n",
    "# Plot distributions\n",
    "accidents.plot()\n",
    "plt.show()"
   ]
  },
  {
   "cell_type": "markdown",
   "metadata": {
    "id": "IxCsFEROor3J"
   },
   "source": [
    "## Q3\n",
    "For the years before 2020, which types of accidents were most prevalent? Did this distribution change during 2020?"
   ]
  },
  {
   "cell_type": "code",
   "execution_count": null,
   "metadata": {
    "id": "RNMDWhfko88y"
   },
   "outputs": [],
   "source": [
    "accidents = pd.DataFrame()\n",
    "# == Compute the distribution for accidents by Borough for years before 2020 ===\n",
    "accidents['Before 2020'] = before_20['CONTRIBUTING FACTOR VEHICLE 1'] \\\n",
    "                          .value_counts()\n",
    "accidents['Before 2020'] = accidents['Before 2020'] / accidents['Before 2020'] \\\n",
    "                          .sum()\n",
    "\n",
    "# ====== Compute the distribution for accidents by Borough for year 2020 =======\n",
    "accidents['2020'] = during_20['CONTRIBUTING FACTOR VEHICLE 1'].value_counts()\n",
    "accidents['2020'] = accidents['2020'] / accidents['2020'].sum()\n",
    "\n",
    "# Plot distributions\n",
    "accidents.plot.bar(figsize=(22,8), fontsize=20)\n",
    "plt.show()"
   ]
  },
  {
   "cell_type": "markdown",
   "metadata": {
    "id": "6gNSqj9Nslhz"
   },
   "source": [
    "## Q4\n",
    "For the years before 2020, which days of the week had the most accidents? Did this distribution change during 2020?"
   ]
  },
  {
   "cell_type": "code",
   "execution_count": null,
   "metadata": {
    "id": "5qqZVNF2stuA"
   },
   "outputs": [],
   "source": [
    "# introduce a column for storing day the crash took place\n",
    "before_20['DAY'] = before_20['CRASH DATETIME'].dt.day_name()\n",
    "during_20['DAY'] = during_20['CRASH DATETIME'].dt.day_name()\n",
    "\n",
    "# get the total number of crashes that happened on each day\n",
    "crash_day_before_20 = before_20['DAY'].value_counts(ascending=True,normalize=True)*100\n",
    "crash_day_during_20 = during_20['DAY'].value_counts(ascending=True,normalize=True)*100\n",
    "\n",
    "\n",
    "# plot the total number of crashes to day it took place\n",
    "print('---------------------')\n",
    "print('\\nNumber of crashes by day before 2020:\\n\\n', crash_day_before_20.to_string())\n",
    "crash_day_before_20.plot(kind='barh', figsize=(12, 8))\n",
    "plt.xlabel(\"No. of Crashes\", labelpad=14)\n",
    "plt.ylabel(\"Day of Week\", labelpad=14)\n",
    "plt.title(\"No. of Crashes by Day of Week for year before 2020\", y=1.02)\n",
    "plt.savefig('Results\\crashes_by_day_bef_20.png')\n",
    "print('\\nSaved the graph for No. of Crashes by Day of Week for '\n",
    "      'year before 2020 to crashes_by_day_bef_20.png.')\n",
    "plt.show()\n",
    "# plt.clf()\n",
    "\n",
    "# plot the total number of crashes to day it took place\n",
    "print('---------------------')\n",
    "print('\\nNumber of crashes by day during 2020:\\n\\n', crash_day_during_20.to_string())\n",
    "crash_day_during_20.plot(kind='barh', figsize=(12, 8))\n",
    "plt.xlabel(\"No. of Crashes\", labelpad=14)\n",
    "plt.ylabel(\"Day of Week\", labelpad=14)\n",
    "plt.title(\"No. of Crashes by Day of Week for year during 2020\", y=1.02)\n",
    "plt.savefig('Results\\crashes_by_day_in_20.png')\n",
    "print('\\nSaved the graph for No. of Crashes by Day of Week for '\n",
    "      'year during 2020 to crashes_by_day_in_20.png.')\n",
    "plt.show()\n",
    "print('---------------------')\n",
    "\n",
    "# Stack the data\n",
    "season_crashes = pd.concat([crash_day_before_20, crash_day_during_20], axis=1)\n",
    "\n",
    "# Plot distributions\n",
    "season_crashes.plot.bar(figsize=(12,9))\n",
    "\n",
    "plt.ylabel(\"Percentage of Crashes\", labelpad=6)\n",
    "plt.title(\"Percentage of Crashes by Day of week\", y=1.02)\n",
    "plt.legend(['Before 2020','After 2020'])\n",
    "plt.savefig('Results\\crashes_by_day')\n",
    "print('\\nSaved the graph for No. of Crashes by Day of Week to crashes_by_day.png.')"
   ]
  },
  {
   "cell_type": "markdown",
   "metadata": {
    "id": "PBcjHEVotDW1"
   },
   "source": [
    "## Q5\n",
    "For a typical year before 2020, how given a seven day calendar that starts at 12:01 AM on Saturday and goes until 11:59 PM midnight on Sunday, when are accidents most likely to happen?  Which day of the week is most likely to have an accident?  What time of the day is most likely to have an accident. Does this change in 2020?"
   ]
  },
  {
   "cell_type": "code",
   "execution_count": null,
   "metadata": {
    "id": "YLAQH8mFtQ2v"
   },
   "outputs": [],
   "source": [
    "# introduce a column for storing day the crash took place\n",
    "before_20['DAY'] = before_20['CRASH DATETIME'].dt.day_name()\n",
    "during_20['DAY'] = during_20['CRASH DATETIME'].dt.day_name()\n",
    "\n",
    "# introduce a column for storing day the crash took place\n",
    "before_20['HOUR'] = before_20['CRASH DATETIME'].dt.hour\n",
    "during_20['HOUR'] = during_20['CRASH DATETIME'].dt.hour\n",
    "\n",
    "\n",
    "# group the data by day value\n",
    "grp_by_day_before_20 = before_20.groupby(['DAY'])\n",
    "grp_by_day_during_20 = during_20.groupby(['DAY'])\n",
    "\n",
    "\n",
    "# ======== Retrieve and plot data for years before 2020 ========\n",
    "plt.figure(figsize=(10, 6), dpi=80)\n",
    "\n",
    "print('---------------------')\n",
    "print('\\nCrashes that happened every hour for each day before 2020:')\n",
    "day_list = []\n",
    "for entry in grp_by_day_before_20:\n",
    "    # get day of week\n",
    "    day_of_week = entry[0]\n",
    "    # sort the entries by hour\n",
    "    this_day_crashes = entry[1].sort_values(by=['HOUR'])\n",
    "    # get count of crashes that happened for every hour of day\n",
    "    crashes_by_hour = this_day_crashes['HOUR'].value_counts().sort_index(ascending=True)\n",
    "    print('\\nFor ',day_of_week,'\\nHOUR\\tCrashes\\n', crashes_by_hour)\n",
    "    day_list.append(day_of_week)\n",
    "    # plot the count of crashes that happened for every hour of day\n",
    "    crashes_by_hour.plot.line()\n",
    "\n",
    "# give labels and add legend\n",
    "plt.ylabel(\"No. of Crashes\", labelpad=14)\n",
    "plt.xlabel(\"Time of day\", labelpad=14)\n",
    "plt.legend(day_list)\n",
    "plt.title(\"No. of Crashes by Time of day for years before 2020\", y=1.02)\n",
    "# save the graph\n",
    "plt.savefig('Results\\crashes_by_time_bef_20.png')\n",
    "print(\"Saved No. of Crashes by Time of day for years before 2020 to crashes_by_time_bef_20.png\")\n",
    "plt.show()\n",
    "# clear plot\n",
    "# plt.cla()\n",
    "\n",
    "print('---------------------')\n",
    "\n",
    "\n",
    "\n",
    "# ======== Retrieve and plot data for year 2020 ========\n",
    "print('\\nCrashes that happened every hour for each day in 2020:')\n",
    "day_list = []\n",
    "\n",
    "plt.figure(figsize=(10, 6), dpi=80)\n",
    "# give labels and add legend\n",
    "plt.ylabel(\"No. of Crashes\", labelpad=14)\n",
    "plt.xlabel(\"Time of day\", labelpad=14)\n",
    "plt.title(\"No. of Crashes by Time of day during 2020\", y=1.02)\n",
    "\n",
    "for entry in grp_by_day_during_20:\n",
    "    # get day of week\n",
    "    day_of_week = entry[0]\n",
    "    # sort the entries by hour\n",
    "    this_day_crashes = entry[1].sort_values(by=['HOUR'])\n",
    "    # get count of crashes that happened for every hour of day\n",
    "    crashes_by_hour = this_day_crashes['HOUR'].value_counts().sort_index(ascending=True)\n",
    "    print('\\nFor ',day_of_week,'\\nHOUR\\tCrashes\\n', crashes_by_hour)\n",
    "    day_list.append(day_of_week)\n",
    "    # plot the count of crashes that happened for every hour of day\n",
    "    crashes_by_hour.plot.line()\n",
    "\n",
    "plt.legend(day_list)\n",
    "\n",
    "\n",
    "# save the graph\n",
    "plt.savefig('Results\\crashes_by_time_in_20.png')\n",
    "print(\"Saved No. of Crashes by Time of day during 2020 to crashes_by_time_in_20.png\")\n",
    "plt.show()\n",
    "print('---------------------')\n"
   ]
  },
  {
   "cell_type": "markdown",
   "metadata": {
    "id": "CDcPLNfOtioJ"
   },
   "source": [
    "## Q6\n",
    "Does the timing of when accidents happen depend on the borough of NY City? Does the amount of change vary from year to year?"
   ]
  },
  {
   "cell_type": "code",
   "execution_count": null,
   "metadata": {
    "id": "scTky6rqt-j2"
   },
   "outputs": [],
   "source": [
    "# group the data by day value\n",
    "grp_by_borough_before_20 = before_20.groupby(['BOROUGH'])\n",
    "grp_by_borough_during_20 = during_20.groupby(['BOROUGH'])\n",
    "\n",
    "\n",
    "# ======== Retrieve and plot data for years before 2020 ========\n",
    "\n",
    "plt.figure(figsize=(10, 6), dpi=80)\n",
    "\n",
    "print('---------------------')\n",
    "print('\\nCrashes that happened every hour for each BOROUGH before 2020:')\n",
    "day_list = []\n",
    "for entry in grp_by_borough_before_20:\n",
    "    # get borough\n",
    "    day_of_week = entry[0]\n",
    "    # sort the entries by hour\n",
    "    this_day_crashes = entry[1].sort_values(by=['HOUR'])\n",
    "    # get count of crashes that happened for every hour of day in the borough\n",
    "    crashes_by_hour = this_day_crashes['HOUR'].value_counts().sort_index(ascending=True)\n",
    "    print('\\nFor ',day_of_week,'\\nHOUR\\tCrashes\\n', crashes_by_hour)\n",
    "    day_list.append(day_of_week)\n",
    "    # plot the count of crashes that happened for every hour in the borough\n",
    "    crashes_by_hour.plot.line()\n",
    "\n",
    "# give labels and add legend\n",
    "plt.ylabel(\"No. of Crashes\", labelpad=14)\n",
    "plt.xlabel(\"Time of day\", labelpad=14)\n",
    "plt.legend(day_list)\n",
    "plt.title(\"No. of Crashes for every Borough by Time of day for years before 2020\", y=1.02)\n",
    "# save the graph\n",
    "plt.savefig('Results\\crashes_by_borough_bef_20.png')\n",
    "print(\"Saved No. of Crashes by Time of day for years before 2020 to Results\\crashes_by_borough_bef_20.png\")\n",
    "plt.show()\n",
    "# clear plot\n",
    "\n",
    "print('---------------------')\n",
    "\n",
    "plt.figure(figsize=(10, 6), dpi=80)\n",
    "\n",
    "\n",
    "# ======== Retrieve and plot data for year 2020 ========\n",
    "print('\\nCrashes that happened every hour for each BOROUGH in 2020:')\n",
    "day_list = []\n",
    "for entry in grp_by_borough_during_20:\n",
    "    # get  borough\n",
    "    day_of_week = entry[0]\n",
    "    # sort the entries by hour\n",
    "    this_day_crashes = entry[1].sort_values(by=['HOUR'])\n",
    "    # get count of crashes that happened for every hour in the borough\n",
    "    crashes_by_hour = this_day_crashes['HOUR'].value_counts().sort_index(ascending=True)\n",
    "    print('\\nFor ',day_of_week,'\\nHOUR\\tCrashes\\n', crashes_by_hour)\n",
    "    day_list.append(day_of_week)\n",
    "    # plot the count of crashes that happened for every hour of day in the borough\n",
    "    crashes_by_hour.plot.line()\n",
    "\n",
    "# give labels and add legend\n",
    "plt.ylabel(\"No. of Crashes\", labelpad=14)\n",
    "plt.xlabel(\"Time of day\", labelpad=14)\n",
    "plt.legend(day_list)\n",
    "plt.title(\"No. of Crashes for every Borough by Time of day during 2020\", y=1.02)\n",
    "# save the graph\n",
    "plt.savefig('Results\\crashes_by_borough_in_20.png')\n",
    "print(\"Saved No. of Crashes by Time of day during 2020 to Results\\crashes_by_borough_in_20.png\")\n",
    "plt.show()\n",
    "print('---------------------')"
   ]
  },
  {
   "cell_type": "markdown",
   "metadata": {
    "id": "FelHfq_OEeed"
   },
   "source": [
    "## Q7\n",
    "For the years before 2020, given the entire region of NY City, which regions are “hot spots,” or places where accidents are most likely to occur?  You will need to do some Parzen density estimation on this.  You will need to use the GPS coordinates.  You may need to convert the GPS coordinates from degrees:minutes:seconds, to degrees.fractions of degrees  (fractional degrees).  You do not need to use the Haversine distance.  Assume that longitude and latitude is Euclidean for NY City.  Create a “heat map” of where accidents occur and overlay it on a map of the city.\n",
    "\n",
    "Do the hot spot locations change in 2020?\n"
   ]
  },
  {
   "cell_type": "code",
   "execution_count": null,
   "metadata": {
    "id": "4oUdEfNzEeei"
   },
   "outputs": [],
   "source": [
    "nyc = gpd.read_file(\n",
    "    gplt.datasets.get_path('nyc_boroughs')\n",
    ")\n",
    "nyc.head()"
   ]
  },
  {
   "cell_type": "code",
   "execution_count": null,
   "metadata": {
    "id": "fq0shYIQMkSc"
   },
   "outputs": [],
   "source": [
    "ax = gplt.polyplot(nyc,\n",
    "                   edgecolor=\"white\",\n",
    "                   facecolor=\"lightgray\",\n",
    "                   figsize=(12, 8))\n",
    "accidents = crash_data[(crash_data['LATITUDE'] != 0) & (crash_data['LONGITUDE'] != 0)]\n",
    "accidents = accidents[['LATITUDE', 'LONGITUDE']].head(4000)\n",
    "gdf = gpd.GeoDataFrame(\n",
    "    accidents, \n",
    "    geometry=gpd.points_from_xy(accidents['LONGITUDE'], accidents['LATITUDE']))\n",
    "# gdf = gpd.read_file(gplt.datasets.get_path(\"nyc_collision_factors\"))\n",
    "\n",
    "gplt.kdeplot(gdf, ax=ax)"
   ]
  },
  {
   "cell_type": "markdown",
   "metadata": {
    "id": "LH2ymF9DFFW7"
   },
   "source": [
    "## Q8\n",
    "Compare the number of car-only accidents (car and car or car and obstacle) with car-pedestrian accidents (car and person or car and bicycle).  Do these proportions change in 2020?  Do they change in any particular location?\n"
   ]
  },
  {
   "cell_type": "code",
   "execution_count": null,
   "metadata": {
    "id": "InYFJulxFFW-"
   },
   "outputs": [],
   "source": [
    "before_20_total = len(before_20)\n",
    "before_20_car_ped = before_20[(before_20['NUMBER OF PEDESTRIANS INJURED'] > 0) \\\n",
    "                                 | (before_20['NUMBER OF PEDESTRIANS KILLED'] > 0) \\\n",
    "                                 | (before_20['NUMBER OF CYCLIST INJURED'] > 0) \\\n",
    "                                 | (before_20['NUMBER OF CYCLIST KILLED'] > 0)]\n",
    "before_20_car_car = pd.merge( \\\n",
    "    before_20, \\\n",
    "    before_20_car_ped, \\\n",
    "    on=before_20.columns.tolist(), \\\n",
    "    how='outer', \\\n",
    "    indicator=True).query(\"_merge == 'left_only'\").drop('_merge', 1)\n",
    "\n",
    "during_20_total = len(during_20)\n",
    "during_20_car_ped = during_20[(during_20['NUMBER OF PEDESTRIANS INJURED'] > 0) \\\n",
    "                                 | (during_20['NUMBER OF PEDESTRIANS KILLED'] > 0) \\\n",
    "                                 | (during_20['NUMBER OF CYCLIST INJURED'] > 0) \\\n",
    "                                 | (during_20['NUMBER OF CYCLIST KILLED'] > 0)]\n",
    "during_20_car_car = pd.merge( \\\n",
    "    during_20, \\\n",
    "    during_20_car_ped, \\\n",
    "    on=during_20.columns.tolist(), \\\n",
    "    how='outer', \\\n",
    "    indicator=True).query(\"_merge == 'left_only'\").drop('_merge', 1)\n",
    "\n",
    "accidents = pd.DataFrame(\n",
    "    {'Before 2020': [len(before_20_car_ped), len(before_20_car_car)], \n",
    "     '2020': [len(during_20_car_ped), len(during_20_car_car)] },\n",
    "     index=['Car-Ped', 'Car-Car'])\n",
    "accidents['Before 2020'] /= before_20_total\n",
    "accidents['2020'] /= during_20_total\n",
    "accidents.plot.bar()\n",
    "plt.show()\n"
   ]
  },
  {
   "cell_type": "code",
   "execution_count": null,
   "metadata": {
    "id": "XeoQjq9J2IiS"
   },
   "outputs": [],
   "source": [
    "nyc = gpd.read_file(\n",
    "    gplt.datasets.get_path('nyc_boroughs')\n",
    ")"
   ]
  },
  {
   "cell_type": "code",
   "execution_count": null,
   "metadata": {
    "id": "Km-NN7ff2Jgt"
   },
   "outputs": [],
   "source": [
    "ax = gplt.polyplot(nyc,\n",
    "                   edgecolor=\"white\",\n",
    "                   facecolor=\"lightgray\",\n",
    "                   figsize=(12, 8))\n",
    "accidents = before_20_car_car[(before_20_car_car['LATITUDE'] != 0) & (before_20_car_car['LONGITUDE'] != 0)]\n",
    "accidents = accidents[['LATITUDE', 'LONGITUDE']].head(4000)\n",
    "gdf = gpd.GeoDataFrame(\n",
    "    accidents, \n",
    "    geometry=gpd.points_from_xy(accidents['LONGITUDE'], accidents['LATITUDE']))\n",
    "# gdf = gpd.read_file(gplt.datasets.get_path(\"nyc_collision_factors\"))\n",
    "\n",
    "gplt.kdeplot(gdf, ax=ax)"
   ]
  },
  {
   "cell_type": "code",
   "execution_count": null,
   "metadata": {
    "id": "jMt9KiGb5fPO"
   },
   "outputs": [],
   "source": [
    "ax = gplt.polyplot(nyc,\n",
    "                   edgecolor=\"white\",\n",
    "                   facecolor=\"lightgray\",\n",
    "                   figsize=(12, 8))\n",
    "accidents = before_20_car_ped[(before_20_car_ped['LATITUDE'] != 0) & (before_20_car_ped['LONGITUDE'] != 0)]\n",
    "accidents = accidents[['LATITUDE', 'LONGITUDE']].head(4000)\n",
    "gdf = gpd.GeoDataFrame(\n",
    "    accidents, \n",
    "    geometry=gpd.points_from_xy(accidents['LONGITUDE'], accidents['LATITUDE']))\n",
    "# gdf = gpd.read_file(gplt.datasets.get_path(\"nyc_collision_factors\"))\n",
    "\n",
    "gplt.kdeplot(gdf, ax=ax)"
   ]
  },
  {
   "cell_type": "markdown",
   "metadata": {
    "id": "C9x2o9KhFu4i"
   },
   "source": [
    "## Q9\n",
    "While working on the data, did you discover anything else you wanted to explore? \n",
    "Some students in the past found relationships between weather and numbers of accidents.\n",
    "One team identified the surge in the number of accidents that happened after the change to/from daylight savings time.\n",
    "\n"
   ]
  },
  {
   "cell_type": "code",
   "execution_count": null,
   "metadata": {
    "id": "eAjCaHScFu4n"
   },
   "outputs": [],
   "source": [
    "# introduce a column for storing month the crash took place\n",
    "before_20['MONTH'] = before_20['CRASH DATETIME'].dt.month\n",
    "during_20['MONTH'] = during_20['CRASH DATETIME'].dt.month\n",
    "\n",
    "# introduce a column for storing season the crash took place\n",
    "before_20['SEASON'] = before_20[\"MONTH\"].apply(lambda month: [\"Winter\",\"Spring\",\"Summer\",\"Fall\"][(month-1)//3])\n",
    "during_20['SEASON'] = during_20[\"MONTH\"].apply(lambda month: [\"Winter\",\"Spring\",\"Summer\",\"Fall\"][(month-1)//3])\n",
    "\n",
    "\n",
    "# get the total number of crashes that happened in each season\n",
    "crash_season_before_20 = before_20['SEASON'].value_counts(normalize=True) * 100\n",
    "crash_season_during_20 = during_20['SEASON'].value_counts(normalize=True) * 100\n",
    "\n",
    "crash_season_before_20.sort_index(inplace=True)\n",
    "crash_season_during_20.sort_index(inplace=True)\n",
    "\n",
    "# group crashes by season\n",
    "grp_by_season_before_20 = before_20.groupby(['SEASON'])\n",
    "grp_by_season_in_20 = during_20.groupby(['SEASON'])\n",
    "\n",
    "\n",
    "print('\\nPercentage of crashes by Season before 2020:\\n\\n', crash_season_before_20.to_string())\n",
    "print('\\nPercentage of crashes by Season during 2020:\\n\\n', crash_season_during_20.to_string())\n",
    "\n",
    "for season_data in grp_by_season_before_20:\n",
    "    # get season\n",
    "    season = season_data[0]\n",
    "    # sort the entries by month\n",
    "    this_season_crashes = season_data[1].sort_values(by=['MONTH'])\n",
    "    crash_by_boroughs = this_season_crashes['BOROUGH'].value_counts(normalize=True)*100\n",
    "    print('\\nPercentage of Crashes during %s season:'%season)\n",
    "    print(crash_by_boroughs.to_string())\n",
    "\n",
    "for season_data in grp_by_season_in_20:\n",
    "    # get  season\n",
    "    season = season_data[0]\n",
    "    # sort the entries by month\n",
    "    this_season_crashes = season_data[1].sort_values(by=['MONTH'])\n",
    "    crash_by_boroughs = this_season_crashes['BOROUGH'].value_counts(normalize=True)*100\n",
    "    print('\\nPercentage of Crashes during %s season:'%season)\n",
    "    print(crash_by_boroughs.to_string())\n",
    "\n",
    "\n",
    "\n",
    "\n",
    "# ======== Retrieve and plot data  ========\n",
    "\n",
    "print('---------------------')\n",
    "\n",
    "# Stack the data\n",
    "season_crashes = pd.concat([crash_season_before_20, crash_season_during_20], axis=1)\n",
    "\n",
    "# Plot distributions\n",
    "season_crashes.plot.bar(figsize=(9,8))\n",
    "\n",
    "plt.ylabel(\"No. of Crashes\", labelpad=6)\n",
    "plt.title(\"Percentage of Crashes by Season\", y=1.02)\n",
    "plt.legend(['Before 2020','After 2020'])\n",
    "\n",
    "plt.savefig('Results\\crashes_by_season.png')\n",
    "\n",
    "print('\\nSaved the graph for Percentage of Crashes by Season of Week for '\n",
    "      'year before 2020 to crashes_by_season.png.')\n",
    "# plt.show()\n",
    "\n",
    "print('---------------------\\n')\n",
    "\n",
    "\n"
   ]
  },
  {
   "cell_type": "markdown",
   "metadata": {
    "id": "sREFzmTkF6el"
   },
   "source": [
    "## Q10\n",
    "Suppose I tell you that there is an accident in one of these certain locations:\\\n",
    "a.\tHope, or \\\n",
    "b.\tHunts Point, or \\\n",
    "c.\tCentral Brooklyn, \\\n",
    "d.\tBrairwood, or \\\n",
    "e.\tWest Bronx\n",
    "\n",
    "what else can you tell me about that accident just by the location – even before  we dispatch emergency vehicles?  How would you build a classifier for this?  Is it likely to be a car-car, or car-pedestrian, or car-bicycle?\n",
    "\n",
    "\n"
   ]
  },
  {
   "cell_type": "code",
   "execution_count": null,
   "metadata": {
    "id": "gPAN_F6WG8oW"
   },
   "outputs": [],
   "source": [
    "# a. Hope,                \n",
    "# b. Hunts Point          40.813°N 73.884°W\n",
    "# c. Central Brooklyn     40.697°N 73.917°W\n",
    "# d. Brairwood            40.71°N 73.81°W\n",
    "# e. West Bronx           40.850°N 73.900°W\n",
    "\n",
    "\n",
    "\n",
    "crash_data_total = len(crash_data)\n",
    "\n",
    "crash_data_car_other = crash_data[(crash_data['NUMBER OF PEDESTRIANS INJURED'] > 0) \\\n",
    "                                 | (crash_data['NUMBER OF PEDESTRIANS KILLED'] > 0)\\\n",
    "                                 | (crash_data['NUMBER OF CYCLIST INJURED'] > 0) \\\n",
    "                                 | (crash_data['NUMBER OF CYCLIST KILLED'] > 0)\\\n",
    "                                 | (crash_data['NUMBER OF MOTORIST INJURED'] > 0)\\\n",
    "                                 | (crash_data['NUMBER OF MOTORIST INJURED'] > 0)]\n",
    "\n",
    "crash_data_car_ped = crash_data[(crash_data['NUMBER OF PEDESTRIANS INJURED'] > 0) \\\n",
    "                                 | (crash_data['NUMBER OF PEDESTRIANS KILLED'] > 0)]\n",
    "\n",
    "crash_data_car_bike = crash_data[(crash_data['NUMBER OF CYCLIST INJURED'] > 0) \\\n",
    "                                 | (crash_data['NUMBER OF CYCLIST KILLED'] > 0)]\n",
    "\n",
    "crash_data_car_motorist = crash_data[(crash_data['NUMBER OF MOTORIST INJURED'] > 0) \\\n",
    "                                 | (crash_data['NUMBER OF MOTORIST KILLED'] > 0)]\n",
    "                                 \n",
    "crash_data_car_car = pd.merge( \\\n",
    "    crash_data, \\\n",
    "    crash_data_car_other, \\\n",
    "    on=crash_data.columns.tolist(), \\\n",
    "    how='outer', \\\n",
    "    indicator=True).query(\"_merge == 'left_only'\").drop('_merge', 1)"
   ]
  },
  {
   "cell_type": "code",
   "execution_count": null,
   "metadata": {
    "id": "-fEodUrpF6em"
   },
   "outputs": [],
   "source": [
    "# get the percentage of car-car crashes happened in each borough\n",
    "car_car_by_boroughs = crash_data_car_car['BOROUGH'].value_counts()\n",
    "car_car_by_boroughs.sort_index(inplace=True)\n",
    "print(\"Percentage of car-car crashes happened in each borough:\\n\",car_car_by_boroughs)\n",
    "\n",
    "# get the percentage of car-ped crashes happened in each borough\n",
    "car_ped_by_boroughs = crash_data_car_ped['BOROUGH'].value_counts()\n",
    "car_ped_by_boroughs.sort_index(inplace=True)\n",
    "print(\"Percentage of car-ped crashes happened in each borough:\\n\",car_ped_by_boroughs)\n",
    "\n",
    "# get the percentage of car-bike crashes happened in each borough\n",
    "car_bike_by_boroughs = crash_data_car_bike['BOROUGH'].value_counts()\n",
    "car_bike_by_boroughs.sort_index(inplace=True)\n",
    "print(\"Percentage of car-bike crashes happened in each borough:\\n\",car_bike_by_boroughs)\n",
    "\n",
    "# get the percentage of car-bike crashes happened in each borough\n",
    "car_motorist_by_boroughs = crash_data_car_motorist['BOROUGH'].value_counts()\n",
    "car_motorist_by_boroughs.sort_index(inplace=True)\n",
    "print(\"Percentage of car-motorist crashes happened in each borough:\\n\",car_motorist_by_boroughs)\n",
    "\n"
   ]
  },
  {
   "cell_type": "code",
   "execution_count": null,
   "metadata": {
    "id": "WfRmXMn_F3HR"
   },
   "outputs": [],
   "source": [
    "def plot_type_of_crashes(crashes_by_borough,type):\n",
    "    # ======== Retrieve and plot data ========\n",
    "    plt.figure(figsize=(4, 4), dpi=80)\n",
    "\n",
    "    print('---------------------')\n",
    "    print(\"No. of \"+type+\" Crashes in every Borough:\\n\",crashes_by_borough)\n",
    "\n",
    "    crashes_by_borough.plot.barh()\n",
    "\n",
    "    # give labels and add legend\n",
    "    plt.xlabel(\"No. of Crashes\", labelpad=4)\n",
    "    plt.yticks(rotation=45)\n",
    "    # plt.xlim(0,40)\n",
    "    # plt.ylabel(\"Borough\", labelpad=4)\n",
    "    plt.title(\"No. of \"+type+\" Crashes for every Borough\", y=1.02)\n",
    "\n",
    "    # save the graph\n",
    "    plt.savefig('Results\\\\'+type+\"_by_borough.png\")\n",
    "    print(\"\\nSaved No. of \"+type+\" Crashes for every Borough to \"+type+\"_by_borough.png\")\n",
    "    plt.show()\n",
    "    print('---------------------')\n",
    "\n",
    "\n",
    "plot_type_of_crashes(car_car_by_boroughs,'car_car')\n",
    "plot_type_of_crashes(car_ped_by_boroughs,'car_ped')\n",
    "plot_type_of_crashes(car_bike_by_boroughs,'car_bike')\n",
    "plot_type_of_crashes(car_motorist_by_boroughs,'car_motorist')"
   ]
  },
  {
   "cell_type": "code",
   "execution_count": null,
   "metadata": {
    "id": "-BCOqbOxiY11"
   },
   "outputs": [],
   "source": [
    "grp_by_borough = crash_data.groupby(['BOROUGH'])\n",
    "\n",
    "cols = ['Car-Car','Car-Ped','Car-Bike','Car-Motorist']\n",
    "for entry in grp_by_borough:\n",
    "    \n",
    "    borough = entry[0]\n",
    "    data = entry[1]\n",
    "\n",
    "    car_other = data[ (data['NUMBER OF PEDESTRIANS INJURED'] > 0) \\\n",
    "                  | (data['NUMBER OF PEDESTRIANS KILLED'] > 0)\\\n",
    "                  | (data['NUMBER OF CYCLIST INJURED'] > 0) \\\n",
    "                  | (data['NUMBER OF CYCLIST KILLED'] > 0)\\\n",
    "                  | (data['NUMBER OF MOTORIST INJURED'] > 0)\\\n",
    "                  | (data['NUMBER OF MOTORIST INJURED'] > 0)]\n",
    "\n",
    "    car_ped = data[(data['NUMBER OF PEDESTRIANS INJURED'] > 0) \\\n",
    "               | (data['NUMBER OF PEDESTRIANS KILLED'] > 0)]\n",
    "\n",
    "    car_bike = data[(data['NUMBER OF CYCLIST INJURED'] > 0) \\\n",
    "                | (data['NUMBER OF CYCLIST KILLED'] > 0)]\n",
    "\n",
    "    car_motorist = data[(data['NUMBER OF MOTORIST INJURED'] > 0) \\\n",
    "                    | (data['NUMBER OF MOTORIST KILLED'] > 0)]\n",
    "\n",
    "    car_car = pd.merge( \\\n",
    "      data, \\\n",
    "      car_other, \\\n",
    "      on=data.columns.tolist(), \\\n",
    "      how='outer', \\\n",
    "      indicator=True).query(\"_merge == 'left_only'\").drop('_merge', 1)\n",
    "\n",
    "\n",
    "    print('---------------------')\n",
    "\n",
    "    types = [len(car_car),len(car_ped),len(car_bike),len(car_motorist)]\n",
    "    print(types)\n",
    "    print(cols)\n",
    "    # df = pd.DataFrame({'Count': types,'Crash Type': cols, })\n",
    "    df = pd.DataFrame(types, index = cols, columns = ['count'])\n",
    "    df.plot.barh()\n",
    "\n",
    "    print(borough)\n",
    "    print(df)\n",
    "    # plt.figure(figsize=(10, 6), dpi=80)\n",
    "    # # ======== Retrieve and plot data for year 2020 ========\n",
    "\n",
    "    # plt.plot\n",
    "    # # give labels and add legend\n",
    "    plt.xlabel(\"No. of Crashes\", labelpad=2)\n",
    "    # plt.ylabel(\"Type of crashes\", labelpad=2)\n",
    "\n",
    "    plt.title(\"No of types of crashes for \"+borough, y=1.02)\n",
    "    # save the graph\n",
    "    plt.savefig('Results\\\\'+borough+'_crash_types.png')\n",
    "    print(\"Saved No. of Crashes by \"+borough+\"_crash_types.png\")\n",
    "    plt.show()\n",
    "    print('---------------------')\n"
   ]
  },
  {
   "cell_type": "code",
   "execution_count": null,
   "metadata": {},
   "outputs": [],
   "source": []
  }
 ],
 "metadata": {
  "accelerator": "GPU",
  "colab": {
   "collapsed_sections": [
    "gqELnxoS58n1",
    "rmZbYZSSjzN-",
    "D97UD1sZjIcY",
    "b8sqD97DkeEV",
    "IxCsFEROor3J",
    "6gNSqj9Nslhz",
    "PBcjHEVotDW1",
    "CDcPLNfOtioJ",
    "FelHfq_OEeed",
    "LH2ymF9DFFW7",
    "C9x2o9KhFu4i",
    "sREFzmTkF6el"
   ],
   "name": "csci720_project.ipynb",
   "provenance": []
  },
  "kernelspec": {
   "display_name": "Python 3 (ipykernel)",
   "language": "python",
   "name": "python3"
  },
  "language_info": {
   "codemirror_mode": {
    "name": "ipython",
    "version": 3
   },
   "file_extension": ".py",
   "mimetype": "text/x-python",
   "name": "python",
   "nbconvert_exporter": "python",
   "pygments_lexer": "ipython3",
   "version": "3.8.12"
  }
 },
 "nbformat": 4,
 "nbformat_minor": 4
}
